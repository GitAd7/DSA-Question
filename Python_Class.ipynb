{
  "nbformat": 4,
  "nbformat_minor": 0,
  "metadata": {
    "colab": {
      "provenance": [],
      "authorship_tag": "ABX9TyOCLSdL0I/7M5ION2xFs435",
      "include_colab_link": true
    },
    "kernelspec": {
      "name": "python3",
      "display_name": "Python 3"
    },
    "language_info": {
      "name": "python"
    }
  },
  "cells": [
    {
      "cell_type": "markdown",
      "metadata": {
        "id": "view-in-github",
        "colab_type": "text"
      },
      "source": [
        "<a href=\"https://colab.research.google.com/github/GitAd7/DSA-Question/blob/main/Python_Class.ipynb\" target=\"_parent\"><img src=\"https://colab.research.google.com/assets/colab-badge.svg\" alt=\"Open In Colab\"/></a>"
      ]
    },
    {
      "cell_type": "markdown",
      "source": [
        "# Custom Function"
      ],
      "metadata": {
        "id": "lEdhtINQuzS9"
      }
    },
    {
      "cell_type": "markdown",
      "source": [
        "---\n",
        " - Making a custom function to calculate the calories burned.\n",
        " - Have to make it using while loop, inputs are activty duration, activity type.\n",
        " - Running burns 10 cal per min, swimming burns 8 cal per min, cycling burns 6 cal per min.\n",
        "---"
      ],
      "metadata": {
        "id": "nKeYl50mj42p"
      }
    },
    {
      "cell_type": "code",
      "execution_count": null,
      "metadata": {
        "id": "gbQYSTQvjyEV"
      },
      "outputs": [],
      "source": [
        "def calories_burned(duration_min, activity_type):\n",
        "  '''\n",
        "  inputs = duration_min (time of activity is minutes), activity_type (Type of activity indulging in)\n",
        "  outputs = calories burned (Total calories burned by doing the specified activity)\n",
        "  '''\n",
        "  if activity_type == 'running':\n",
        "    calories = duration_min * 10\n",
        "  elif activity_type == 'swimming':\n",
        "    calories = duration_min * 8\n",
        "  elif activity_type == 'cycling':\n",
        "    calories = duration_min * 6\n",
        "  else:\n",
        "    calories = 0\n",
        "  return calories"
      ]
    },
    {
      "cell_type": "code",
      "source": [
        "glb_cal = calories_burned(20, 'cycling')\n",
        "print(glb_cal)"
      ],
      "metadata": {
        "colab": {
          "base_uri": "https://localhost:8080/"
        },
        "id": "BZ2WEOv0mOYV",
        "outputId": "53bf9729-60c1-481b-cded-097b68b9b872"
      },
      "execution_count": null,
      "outputs": [
        {
          "output_type": "stream",
          "name": "stdout",
          "text": [
            "120\n"
          ]
        }
      ]
    },
    {
      "cell_type": "code",
      "source": [
        "total_cal = calories_burned(23, 'swimming') + calories_burned(10, 'cycling') + calories_burned(30, 'running')\n",
        "print(total_cal)"
      ],
      "metadata": {
        "colab": {
          "base_uri": "https://localhost:8080/"
        },
        "id": "xxFTJyyYmXx7",
        "outputId": "4caeaecd-0179-4f41-9ab7-8ad2d8d3949d"
      },
      "execution_count": null,
      "outputs": [
        {
          "output_type": "stream",
          "name": "stdout",
          "text": [
            "544\n"
          ]
        }
      ]
    },
    {
      "cell_type": "markdown",
      "source": [
        "---\n",
        "- Create a function to keep the count of book to order for each category.\n",
        "- Inventory atleast has 10 books for each title at minimun.\n",
        "- Input: a dictionary of books names as key with current count as values.\n",
        "- Output: A dictionary of the book names as key and the value as number of books to be ordered.\n",
        "---"
      ],
      "metadata": {
        "id": "6Fu78D9inw8P"
      }
    },
    {
      "cell_type": "code",
      "source": [
        "books = {\n",
        "    \"Harry Potter\": 10,\n",
        "    \"The Hunger Games\": 5,\n",
        "    \"To Kill a Mockingbird\": 2,\n",
        "    \"Pride and Prejudice\": 8,\n",
        "    \"The Book Thief\": 4\n",
        "}\n",
        "\n",
        "\n",
        "books_cnt = {\n",
        "    \"Harry Potter\": 10,\n",
        "    \"The Hunger Games\": 5,\n",
        "    \"To Kill a Mockingbird\": 2,\n",
        "    \"Pride and Prejudice\": 8,\n",
        "    \"The Book Thief\": 4\n",
        "}"
      ],
      "metadata": {
        "id": "bFNdpFmCouOC"
      },
      "execution_count": null,
      "outputs": []
    },
    {
      "cell_type": "code",
      "source": [
        "# Approach-01\n",
        "def inventory_update(books):\n",
        "  for book in books:\n",
        "    books[book] = books[book] - 10\n",
        "  return books\n",
        "\n",
        "# Approach-02\n",
        "def books_tb_ordered(books):\n",
        "  order = {}\n",
        "  for name, qty in books.items():\n",
        "    if qty >= 10:\n",
        "      order[name] = 0\n",
        "    else:\n",
        "      order[name] = 10 - qty\n",
        "  return order"
      ],
      "metadata": {
        "id": "mDMo7xVDmxwx"
      },
      "execution_count": null,
      "outputs": []
    },
    {
      "cell_type": "code",
      "source": [
        "cal = inventory_update(books)\n",
        "print(cal)"
      ],
      "metadata": {
        "colab": {
          "base_uri": "https://localhost:8080/"
        },
        "id": "25C5szBepceh",
        "outputId": "691c7b63-3a72-49ed-bcfa-3515dd69751c"
      },
      "execution_count": null,
      "outputs": [
        {
          "output_type": "stream",
          "name": "stdout",
          "text": [
            "{'Harry Potter': 0, 'The Hunger Games': -5, 'To Kill a Mockingbird': -8, 'Pride and Prejudice': -2, 'The Book Thief': -6}\n"
          ]
        }
      ]
    },
    {
      "cell_type": "code",
      "source": [
        "bks = books_tb_ordered(books_cnt)\n",
        "print(bks)"
      ],
      "metadata": {
        "colab": {
          "base_uri": "https://localhost:8080/"
        },
        "id": "rH-KTe8uq1P7",
        "outputId": "3b3b6e1f-3371-4f63-8491-1038d69ade8d"
      },
      "execution_count": null,
      "outputs": [
        {
          "output_type": "stream",
          "name": "stdout",
          "text": [
            "{'Harry Potter': 0, 'The Hunger Games': 5, 'To Kill a Mockingbird': 8, 'Pride and Prejudice': 2, 'The Book Thief': 6}\n"
          ]
        }
      ]
    },
    {
      "cell_type": "markdown",
      "source": [
        "# Advanced Looping Concepts"
      ],
      "metadata": {
        "id": "sXrmjRxSu4ur"
      }
    },
    {
      "cell_type": "markdown",
      "source": [
        "---\n",
        "- The blue things are the keywords which you should not mess with as we try to define a variable with keywords it will always assume to be function. Examples, def, lambda...\n",
        "---"
      ],
      "metadata": {
        "id": "1MvpgtLOcgZF"
      }
    },
    {
      "cell_type": "code",
      "source": [
        "# A lambda function which adds two number\n",
        "add = lambda x,y: x+y\n",
        "\n",
        "# calling the function\n",
        "results = add(4,5)\n",
        "print(results)"
      ],
      "metadata": {
        "id": "kohqDE29u8-T",
        "colab": {
          "base_uri": "https://localhost:8080/"
        },
        "outputId": "06fb4113-b56e-4b9e-866b-9705a99eaddf"
      },
      "execution_count": null,
      "outputs": [
        {
          "output_type": "stream",
          "name": "stdout",
          "text": [
            "9\n"
          ]
        }
      ]
    },
    {
      "cell_type": "markdown",
      "source": [
        "---\n",
        "- Comparing with normal function\n",
        "\n",
        "1. required a function name\n",
        "2. arguments in ()\n",
        "3. operation after :    \n",
        "4. return statement is required.\n",
        "---"
      ],
      "metadata": {
        "id": "qgW3jWbgfmrb"
      }
    },
    {
      "cell_type": "code",
      "source": [
        "def add1(x,y):\n",
        "  z = x+y\n",
        "  return z\n",
        "\n",
        "results1 = add1(4,5)\n",
        "print(results1)"
      ],
      "metadata": {
        "colab": {
          "base_uri": "https://localhost:8080/"
        },
        "id": "YFC9pYpKd8gP",
        "outputId": "92abbe8d-333f-42e6-8854-86796f1d1e72"
      },
      "execution_count": null,
      "outputs": [
        {
          "output_type": "stream",
          "name": "stdout",
          "text": [
            "9\n"
          ]
        }
      ]
    },
    {
      "cell_type": "markdown",
      "source": [
        "---\n",
        "- If we have to solve something in a one liner then we have to use lambda function, but if we have more steps than we must use normal def function.\n",
        "---"
      ],
      "metadata": {
        "id": "fWsnr0iChHSr"
      }
    },
    {
      "cell_type": "markdown",
      "source": [
        "- Write a lambda function for division, if the second number is zero then it should print undefiend."
      ],
      "metadata": {
        "id": "U4d-w5VYu9zI"
      }
    },
    {
      "cell_type": "code",
      "source": [
        "div = lambda x,y: \"undefined\" if y==0 else x/y\n",
        "\n",
        "print(div(10,2))\n",
        "print(div(10,0))"
      ],
      "metadata": {
        "colab": {
          "base_uri": "https://localhost:8080/"
        },
        "id": "4msEpqW0f3Pk",
        "outputId": "4c73e09c-2d42-4d3b-9836-9bf335ba59e1"
      },
      "execution_count": null,
      "outputs": [
        {
          "output_type": "stream",
          "name": "stdout",
          "text": [
            "5.0\n",
            "undefined\n"
          ]
        }
      ]
    },
    {
      "cell_type": "markdown",
      "source": [
        "---\n",
        " - Filter function is just another built-in function in python that allows us to filter elements of iterlable (such as list, tuple, string) based on certain condition\n",
        "---"
      ],
      "metadata": {
        "id": "VjEkQymmDZGE"
      }
    },
    {
      "cell_type": "code",
      "source": [
        "filter(function, iterable)"
      ],
      "metadata": {
        "id": "g6xvPNGyHhFP"
      },
      "execution_count": null,
      "outputs": []
    },
    {
      "cell_type": "code",
      "source": [
        "numb = [1,2,3,4,5,6,7,8,9]\n",
        "eve = list(filter(lambda x: x % 2==0, numb))\n",
        "print(eve)"
      ],
      "metadata": {
        "colab": {
          "base_uri": "https://localhost:8080/"
        },
        "id": "vcZ2d1ZbBfb-",
        "outputId": "a9684f59-63cb-40f3-8cbe-2d1d3e618d48"
      },
      "execution_count": null,
      "outputs": [
        {
          "output_type": "stream",
          "name": "stdout",
          "text": [
            "[2, 4, 6, 8]\n"
          ]
        }
      ]
    },
    {
      "cell_type": "markdown",
      "source": [
        "- Mapping function in python applies a given function to each of the iterable and return nre iterables with result"
      ],
      "metadata": {
        "id": "TSCasItmIyFc"
      }
    },
    {
      "cell_type": "code",
      "source": [
        "map(function, iterable)"
      ],
      "metadata": {
        "id": "059zbjNNGmyb"
      },
      "execution_count": null,
      "outputs": []
    },
    {
      "cell_type": "code",
      "source": [
        "numb = [1,2,3,4,5,6,7,8,9]\n",
        "sq = list(map(lambda x: x**2, numb))\n",
        "print(sq)"
      ],
      "metadata": {
        "colab": {
          "base_uri": "https://localhost:8080/"
        },
        "id": "S-7wCQXZJGLo",
        "outputId": "cfd432f1-4b6e-419d-ba74-82cff9f23a6d"
      },
      "execution_count": null,
      "outputs": [
        {
          "output_type": "stream",
          "name": "stdout",
          "text": [
            "[1, 4, 9, 16, 25, 36, 49, 64, 81]\n"
          ]
        }
      ]
    },
    {
      "cell_type": "markdown",
      "source": [
        "- map function can be used with any function which takes a single argument and gives a single value"
      ],
      "metadata": {
        "id": "zFboI3SUJgAK"
      }
    },
    {
      "cell_type": "code",
      "source": [
        "word = ['apple', 'banana','mango','cherry']\n",
        "len = list(map(len, word))\n",
        "print(len)"
      ],
      "metadata": {
        "colab": {
          "base_uri": "https://localhost:8080/"
        },
        "id": "y-r0CvkHJNj5",
        "outputId": "9a0d6b75-18ea-4a5b-c363-03a1486cd771"
      },
      "execution_count": null,
      "outputs": [
        {
          "output_type": "stream",
          "name": "stdout",
          "text": [
            "[5, 6, 5, 6]\n"
          ]
        }
      ]
    },
    {
      "cell_type": "markdown",
      "source": [
        "---\n",
        "List Comprehension\n",
        "- it allows us to create new list by iterating over an existing iterable object and applying a condition or expression to each element\n",
        "---"
      ],
      "metadata": {
        "id": "z7uXzUpjLJHx"
      }
    },
    {
      "cell_type": "code",
      "source": [
        "# basic syntax of list comprehension\n",
        "new_iterable = [expression for item in iterable if condition]"
      ],
      "metadata": {
        "id": "umFmUaPnKRvO"
      },
      "execution_count": null,
      "outputs": []
    },
    {
      "cell_type": "code",
      "source": [
        "# through list comprehension\n",
        "squares = [i**2 for i in range(1,11)]\n",
        "print(squares)"
      ],
      "metadata": {
        "colab": {
          "base_uri": "https://localhost:8080/"
        },
        "id": "nqgSdvgrNNOz",
        "outputId": "fab2076d-a597-4997-acad-989581427c6c"
      },
      "execution_count": null,
      "outputs": [
        {
          "output_type": "stream",
          "name": "stdout",
          "text": [
            "[1, 4, 9, 16, 25, 36, 49, 64, 81, 100]\n"
          ]
        }
      ]
    },
    {
      "cell_type": "code",
      "source": [
        "# through loop\n",
        "squares = []\n",
        "for i in range(1,11):\n",
        "  squares.append(i**2)\n",
        "print(squares)"
      ],
      "metadata": {
        "colab": {
          "base_uri": "https://localhost:8080/"
        },
        "id": "fYl99ShXNjWj",
        "outputId": "38a41295-954b-42e6-ad5a-fc0c55a654b0"
      },
      "execution_count": null,
      "outputs": [
        {
          "output_type": "stream",
          "name": "stdout",
          "text": [
            "[1, 4, 9, 16, 25, 36, 49, 64, 81, 100]\n"
          ]
        }
      ]
    },
    {
      "cell_type": "code",
      "source": [
        "squares = [i**2 for i in range(1,11) if i%2==0]\n",
        "print(squares)"
      ],
      "metadata": {
        "colab": {
          "base_uri": "https://localhost:8080/"
        },
        "id": "wPLIeudjNnvo",
        "outputId": "45202f14-bee9-4452-f4da-9ebfc243cae6"
      },
      "execution_count": null,
      "outputs": [
        {
          "output_type": "stream",
          "name": "stdout",
          "text": [
            "[4, 16, 36, 64, 100]\n"
          ]
        }
      ]
    },
    {
      "cell_type": "code",
      "source": [
        "squares = []\n",
        "for i in range(1,11):\n",
        "  if i%2==0:\n",
        "    squares.append(i**2)\n",
        "print(squares)"
      ],
      "metadata": {
        "colab": {
          "base_uri": "https://localhost:8080/"
        },
        "id": "J_O1-4X_THJZ",
        "outputId": "4d624b8d-052f-4825-cb23-e0a9ca36e15d"
      },
      "execution_count": null,
      "outputs": [
        {
          "output_type": "stream",
          "name": "stdout",
          "text": [
            "[4, 16, 36, 64, 100]\n"
          ]
        }
      ]
    },
    {
      "cell_type": "code",
      "source": [
        "# Nested list comprehension\n",
        "pair = [(x,j) for x in range(1,6) if x % 2 ==0 for j in range(1,6) if j%2 ==1]\n",
        "print(pair)"
      ],
      "metadata": {
        "colab": {
          "base_uri": "https://localhost:8080/"
        },
        "id": "rFL16OniTedU",
        "outputId": "a31adb73-707a-49bc-8782-15bb014800de"
      },
      "execution_count": null,
      "outputs": [
        {
          "output_type": "stream",
          "name": "stdout",
          "text": [
            "[(2, 1), (2, 3), (2, 5), (4, 1), (4, 3), (4, 5)]\n"
          ]
        }
      ]
    },
    {
      "cell_type": "code",
      "source": [
        "num_grades = [78,92,85,65,89,76,81]\n",
        "let_grades = []\n",
        "for grade in num_grades:\n",
        "  if grade in range(90,101):\n",
        "    let_grades.append('A')\n",
        "  elif grade in range(80,90):\n",
        "    let_grades.append('B')\n",
        "  elif grade in range(70,80):\n",
        "    let_grades.append('C')\n",
        "  elif grade in range(60,70):\n",
        "    let_grades.append('D')\n",
        "  else:\n",
        "    let_grades.append('F')\n",
        "print(let_grades)"
      ],
      "metadata": {
        "colab": {
          "base_uri": "https://localhost:8080/"
        },
        "id": "E9pvNZ3oUn3m",
        "outputId": "442fe5c6-970b-4bde-986c-6191325ee213"
      },
      "execution_count": null,
      "outputs": [
        {
          "output_type": "stream",
          "name": "stdout",
          "text": [
            "['C', 'A', 'B', 'D', 'B', 'C', 'B']\n"
          ]
        }
      ]
    },
    {
      "cell_type": "code",
      "source": [
        "lett_grades = ['A' if grade>=90 else 'B' if grade>=80 else 'C' if grade>=70 else 'F' for grade in num_grades]\n",
        "print(lett_grades)"
      ],
      "metadata": {
        "colab": {
          "base_uri": "https://localhost:8080/"
        },
        "id": "A5HeRnr3V5OL",
        "outputId": "50cee39c-7aae-415d-cd3b-14d5f947768d"
      },
      "execution_count": null,
      "outputs": [
        {
          "output_type": "stream",
          "name": "stdout",
          "text": [
            "['C', 'A', 'B', 'F', 'B', 'C', 'B']\n"
          ]
        }
      ]
    },
    {
      "cell_type": "code",
      "source": [
        "prices = [100,50,80,120,150,340,200,45,20,10]\n",
        "dis_price = [i*.80 for i in prices]\n",
        "print(dis_price)"
      ],
      "metadata": {
        "colab": {
          "base_uri": "https://localhost:8080/"
        },
        "id": "6arotLBfWjYJ",
        "outputId": "51adea76-20f8-407e-f9f9-3719ebbd4587"
      },
      "execution_count": null,
      "outputs": [
        {
          "output_type": "stream",
          "name": "stdout",
          "text": [
            "[80.0, 40.0, 64.0, 96.0, 120.0, 272.0, 160.0, 36.0, 16.0, 8.0]\n"
          ]
        }
      ]
    },
    {
      "cell_type": "markdown",
      "source": [
        "---\n",
        "Set Comprehension\n",
        "- Similar to the list list comprehension but we are just creating a set\n",
        "---"
      ],
      "metadata": {
        "id": "qohwu6wz4KbQ"
      }
    },
    {
      "cell_type": "code",
      "source": [
        "vow = {char for char in \"Heello People\" if char in 'aeiou'}\n",
        "print(vow)"
      ],
      "metadata": {
        "id": "KPnORnsu2jAD",
        "colab": {
          "base_uri": "https://localhost:8080/"
        },
        "outputId": "88276e4e-012a-420d-b090-5d73031463c0"
      },
      "execution_count": 5,
      "outputs": [
        {
          "output_type": "stream",
          "name": "stdout",
          "text": [
            "{'e', 'o'}\n"
          ]
        }
      ]
    },
    {
      "cell_type": "code",
      "source": [
        "books = [('fiction', 20), ('history', 15), ('biography', 5), ('mystery', 10), ('science', 8), ('fiction', 15), ('history', 10)]\n",
        "\n",
        "cat = {category for category, stock in books if stock>=10}\n",
        "print(cat)"
      ],
      "metadata": {
        "colab": {
          "base_uri": "https://localhost:8080/"
        },
        "id": "hZB_CAwZL1Wb",
        "outputId": "d5dbaf8e-acbd-413d-daa6-4dfd956fdf9b"
      },
      "execution_count": 8,
      "outputs": [
        {
          "output_type": "stream",
          "name": "stdout",
          "text": [
            "{'fiction', 'mystery', 'history'}\n"
          ]
        }
      ]
    },
    {
      "cell_type": "markdown",
      "source": [
        "Enumerate Function:\n",
        "- The \"enumerate()\" function is a powerful tool that simplifies looping over iterable objects, such as lists or strings. It returns a tuple containing the index and the corresponding value for each element in the sequence. This allows you to access both the index and the element during iteration, making code more concise and readable."
      ],
      "metadata": {
        "id": "gWxqF9f3OeyU"
      }
    },
    {
      "cell_type": "markdown",
      "source": [
        "Zip Function:\n",
        "- The \"zip()\" function is used to combine multiple iterables into a single iterable of tuples. It pairs elements from different sequences based on their index. This is particularly useful when you want to loop through multiple lists or strings simultaneously."
      ],
      "metadata": {
        "id": "MkdeIm98OlfX"
      }
    },
    {
      "cell_type": "markdown",
      "source": [
        "Generator Expressions:\n",
        "- Generator expressions are similar to list comprehensions, but they generate values on-the-fly rather than creating a new list. This makes them memory-efficient when dealing with large datasets. They are denoted by parentheses instead of square brackets."
      ],
      "metadata": {
        "id": "4YyiQU2SOtxN"
      }
    },
    {
      "cell_type": "code",
      "source": [],
      "metadata": {
        "id": "zlJwJXGkMu0O"
      },
      "execution_count": null,
      "outputs": []
    }
  ]
}