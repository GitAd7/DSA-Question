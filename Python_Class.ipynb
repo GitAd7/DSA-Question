{
  "nbformat": 4,
  "nbformat_minor": 0,
  "metadata": {
    "colab": {
      "provenance": [],
      "authorship_tag": "ABX9TyMOZWe/Qf5wbvfT0S+5nX0f",
      "include_colab_link": true
    },
    "kernelspec": {
      "name": "python3",
      "display_name": "Python 3"
    },
    "language_info": {
      "name": "python"
    }
  },
  "cells": [
    {
      "cell_type": "markdown",
      "metadata": {
        "id": "view-in-github",
        "colab_type": "text"
      },
      "source": [
        "<a href=\"https://colab.research.google.com/github/GitAd7/DSA-Question/blob/main/Python_Class.ipynb\" target=\"_parent\"><img src=\"https://colab.research.google.com/assets/colab-badge.svg\" alt=\"Open In Colab\"/></a>"
      ]
    },
    {
      "cell_type": "markdown",
      "source": [
        "# Custom Function"
      ],
      "metadata": {
        "id": "lEdhtINQuzS9"
      }
    },
    {
      "cell_type": "markdown",
      "source": [
        "---\n",
        " - Making a custom function to calculate the calories burned.\n",
        " - Have to make it using while loop, inputs are activty duration, activity type.\n",
        " - Running burns 10 cal per min, swimming burns 8 cal per min, cycling burns 6 cal per min.\n",
        "---"
      ],
      "metadata": {
        "id": "nKeYl50mj42p"
      }
    },
    {
      "cell_type": "code",
      "execution_count": null,
      "metadata": {
        "id": "gbQYSTQvjyEV"
      },
      "outputs": [],
      "source": [
        "def calories_burned(duration_min, activity_type):\n",
        "  '''\n",
        "  inputs = duration_min (time of activity is minutes), activity_type (Type of activity indulging in)\n",
        "  outputs = calories burned (Total calories burned by doing the specified activity)\n",
        "  '''\n",
        "  if activity_type == 'running':\n",
        "    calories = duration_min * 10\n",
        "  elif activity_type == 'swimming':\n",
        "    calories = duration_min * 8\n",
        "  elif activity_type == 'cycling':\n",
        "    calories = duration_min * 6\n",
        "  else:\n",
        "    calories = 0\n",
        "  return calories"
      ]
    },
    {
      "cell_type": "code",
      "source": [
        "glb_cal = calories_burned(20, 'cycling')\n",
        "print(glb_cal)"
      ],
      "metadata": {
        "colab": {
          "base_uri": "https://localhost:8080/"
        },
        "id": "BZ2WEOv0mOYV",
        "outputId": "53bf9729-60c1-481b-cded-097b68b9b872"
      },
      "execution_count": null,
      "outputs": [
        {
          "output_type": "stream",
          "name": "stdout",
          "text": [
            "120\n"
          ]
        }
      ]
    },
    {
      "cell_type": "code",
      "source": [
        "total_cal = calories_burned(23, 'swimming') + calories_burned(10, 'cycling') + calories_burned(30, 'running')\n",
        "print(total_cal)"
      ],
      "metadata": {
        "colab": {
          "base_uri": "https://localhost:8080/"
        },
        "id": "xxFTJyyYmXx7",
        "outputId": "4caeaecd-0179-4f41-9ab7-8ad2d8d3949d"
      },
      "execution_count": null,
      "outputs": [
        {
          "output_type": "stream",
          "name": "stdout",
          "text": [
            "544\n"
          ]
        }
      ]
    },
    {
      "cell_type": "markdown",
      "source": [
        "---\n",
        "- Create a function to keep the count of book to order for each category.\n",
        "- Inventory atleast has 10 books for each title at minimun.\n",
        "- Input: a dictionary of books names as key with current count as values.\n",
        "- Output: A dictionary of the book names as key and the value as number of books to be ordered.\n",
        "---"
      ],
      "metadata": {
        "id": "6Fu78D9inw8P"
      }
    },
    {
      "cell_type": "code",
      "source": [
        "books = {\n",
        "    \"Harry Potter\": 10,\n",
        "    \"The Hunger Games\": 5,\n",
        "    \"To Kill a Mockingbird\": 2,\n",
        "    \"Pride and Prejudice\": 8,\n",
        "    \"The Book Thief\": 4\n",
        "}\n",
        "\n",
        "\n",
        "books_cnt = {\n",
        "    \"Harry Potter\": 10,\n",
        "    \"The Hunger Games\": 5,\n",
        "    \"To Kill a Mockingbird\": 2,\n",
        "    \"Pride and Prejudice\": 8,\n",
        "    \"The Book Thief\": 4\n",
        "}"
      ],
      "metadata": {
        "id": "bFNdpFmCouOC"
      },
      "execution_count": null,
      "outputs": []
    },
    {
      "cell_type": "code",
      "source": [
        "# Approach-01\n",
        "def inventory_update(books):\n",
        "  for book in books:\n",
        "    books[book] = books[book] - 10\n",
        "  return books\n",
        "\n",
        "# Approach-02\n",
        "def books_tb_ordered(books):\n",
        "  order = {}\n",
        "  for name, qty in books.items():\n",
        "    if qty >= 10:\n",
        "      order[name] = 0\n",
        "    else:\n",
        "      order[name] = 10 - qty\n",
        "  return order"
      ],
      "metadata": {
        "id": "mDMo7xVDmxwx"
      },
      "execution_count": null,
      "outputs": []
    },
    {
      "cell_type": "code",
      "source": [
        "cal = inventory_update(books)\n",
        "print(cal)"
      ],
      "metadata": {
        "colab": {
          "base_uri": "https://localhost:8080/"
        },
        "id": "25C5szBepceh",
        "outputId": "691c7b63-3a72-49ed-bcfa-3515dd69751c"
      },
      "execution_count": null,
      "outputs": [
        {
          "output_type": "stream",
          "name": "stdout",
          "text": [
            "{'Harry Potter': 0, 'The Hunger Games': -5, 'To Kill a Mockingbird': -8, 'Pride and Prejudice': -2, 'The Book Thief': -6}\n"
          ]
        }
      ]
    },
    {
      "cell_type": "code",
      "source": [
        "bks = books_tb_ordered(books_cnt)\n",
        "print(bks)"
      ],
      "metadata": {
        "colab": {
          "base_uri": "https://localhost:8080/"
        },
        "id": "rH-KTe8uq1P7",
        "outputId": "3b3b6e1f-3371-4f63-8491-1038d69ade8d"
      },
      "execution_count": null,
      "outputs": [
        {
          "output_type": "stream",
          "name": "stdout",
          "text": [
            "{'Harry Potter': 0, 'The Hunger Games': 5, 'To Kill a Mockingbird': 8, 'Pride and Prejudice': 2, 'The Book Thief': 6}\n"
          ]
        }
      ]
    },
    {
      "cell_type": "markdown",
      "source": [
        "# Advanced Looping Concepts"
      ],
      "metadata": {
        "id": "sXrmjRxSu4ur"
      }
    },
    {
      "cell_type": "markdown",
      "source": [
        "---\n",
        "- The blue things are the keywords which you should not mess with as we try to define a variable with keywords it will always assume to be function. Examples, def, lambda...\n",
        "---"
      ],
      "metadata": {
        "id": "1MvpgtLOcgZF"
      }
    },
    {
      "cell_type": "code",
      "source": [
        "# A lambda function which adds two number\n",
        "add = lambda x,y: x+y\n",
        "\n",
        "# calling the function\n",
        "results = add(4,5)\n",
        "print(results)"
      ],
      "metadata": {
        "id": "kohqDE29u8-T",
        "colab": {
          "base_uri": "https://localhost:8080/"
        },
        "outputId": "06fb4113-b56e-4b9e-866b-9705a99eaddf"
      },
      "execution_count": null,
      "outputs": [
        {
          "output_type": "stream",
          "name": "stdout",
          "text": [
            "9\n"
          ]
        }
      ]
    },
    {
      "cell_type": "markdown",
      "source": [
        "---\n",
        "- Comparing with normal function\n",
        "\n",
        "1. required a function name\n",
        "2. arguments in ()\n",
        "3. operation after :    \n",
        "4. return statement is required.\n",
        "---"
      ],
      "metadata": {
        "id": "qgW3jWbgfmrb"
      }
    },
    {
      "cell_type": "code",
      "source": [
        "def add1(x,y):\n",
        "  z = x+y\n",
        "  return z\n",
        "\n",
        "results1 = add1(4,5)\n",
        "print(results1)"
      ],
      "metadata": {
        "colab": {
          "base_uri": "https://localhost:8080/"
        },
        "id": "YFC9pYpKd8gP",
        "outputId": "92abbe8d-333f-42e6-8854-86796f1d1e72"
      },
      "execution_count": null,
      "outputs": [
        {
          "output_type": "stream",
          "name": "stdout",
          "text": [
            "9\n"
          ]
        }
      ]
    },
    {
      "cell_type": "markdown",
      "source": [
        "---\n",
        "- If we have to solve something in a one liner then we have to use lambda function, but if we have more steps than we must use normal def function.\n",
        "---"
      ],
      "metadata": {
        "id": "fWsnr0iChHSr"
      }
    },
    {
      "cell_type": "markdown",
      "source": [
        "- Write a lambda function for division, if the second number is zero then it should print undefiend."
      ],
      "metadata": {
        "id": "U4d-w5VYu9zI"
      }
    },
    {
      "cell_type": "code",
      "source": [
        "div = lambda x,y: \"undefined\" if y==0 else x/y\n",
        "\n",
        "print(div(10,2))\n",
        "print(div(10,0))"
      ],
      "metadata": {
        "colab": {
          "base_uri": "https://localhost:8080/"
        },
        "id": "4msEpqW0f3Pk",
        "outputId": "4c73e09c-2d42-4d3b-9836-9bf335ba59e1"
      },
      "execution_count": null,
      "outputs": [
        {
          "output_type": "stream",
          "name": "stdout",
          "text": [
            "5.0\n",
            "undefined\n"
          ]
        }
      ]
    },
    {
      "cell_type": "markdown",
      "source": [
        "---\n",
        " - Filter function is just another built-in function in python that allows us to filter elements of iterlable (such as list, tuple, string) based on certain condition\n",
        "---"
      ],
      "metadata": {
        "id": "VjEkQymmDZGE"
      }
    },
    {
      "cell_type": "code",
      "source": [
        "filter(function, iterable)"
      ],
      "metadata": {
        "id": "g6xvPNGyHhFP"
      },
      "execution_count": null,
      "outputs": []
    },
    {
      "cell_type": "code",
      "source": [
        "numb = [1,2,3,4,5,6,7,8,9]\n",
        "eve = list(filter(lambda x: x % 2==0, numb))\n",
        "print(eve)"
      ],
      "metadata": {
        "colab": {
          "base_uri": "https://localhost:8080/"
        },
        "id": "vcZ2d1ZbBfb-",
        "outputId": "a9684f59-63cb-40f3-8cbe-2d1d3e618d48"
      },
      "execution_count": null,
      "outputs": [
        {
          "output_type": "stream",
          "name": "stdout",
          "text": [
            "[2, 4, 6, 8]\n"
          ]
        }
      ]
    },
    {
      "cell_type": "markdown",
      "source": [
        "- Mapping function in python applies a given function to each of the iterable and return nre iterables with result"
      ],
      "metadata": {
        "id": "TSCasItmIyFc"
      }
    },
    {
      "cell_type": "code",
      "source": [
        "map(function, iterable)"
      ],
      "metadata": {
        "id": "059zbjNNGmyb"
      },
      "execution_count": null,
      "outputs": []
    },
    {
      "cell_type": "code",
      "source": [
        "numb = [1,2,3,4,5,6,7,8,9]\n",
        "sq = list(map(lambda x: x**2, numb))\n",
        "print(sq)"
      ],
      "metadata": {
        "colab": {
          "base_uri": "https://localhost:8080/"
        },
        "id": "S-7wCQXZJGLo",
        "outputId": "cfd432f1-4b6e-419d-ba74-82cff9f23a6d"
      },
      "execution_count": null,
      "outputs": [
        {
          "output_type": "stream",
          "name": "stdout",
          "text": [
            "[1, 4, 9, 16, 25, 36, 49, 64, 81]\n"
          ]
        }
      ]
    },
    {
      "cell_type": "markdown",
      "source": [
        "- map function can be used with any function which takes a single argument and gives a single value"
      ],
      "metadata": {
        "id": "zFboI3SUJgAK"
      }
    },
    {
      "cell_type": "code",
      "source": [
        "word = ['apple', 'banana','mango','cherry']\n",
        "len = list(map(len, word))\n",
        "print(len)"
      ],
      "metadata": {
        "colab": {
          "base_uri": "https://localhost:8080/"
        },
        "id": "y-r0CvkHJNj5",
        "outputId": "9a0d6b75-18ea-4a5b-c363-03a1486cd771"
      },
      "execution_count": null,
      "outputs": [
        {
          "output_type": "stream",
          "name": "stdout",
          "text": [
            "[5, 6, 5, 6]\n"
          ]
        }
      ]
    },
    {
      "cell_type": "markdown",
      "source": [
        "---\n",
        "List Comprehension\n",
        "- it allows us to create new list by iterating over an existing iterable object and applying a condition or expression to each element\n",
        "---"
      ],
      "metadata": {
        "id": "z7uXzUpjLJHx"
      }
    },
    {
      "cell_type": "code",
      "source": [
        "# basic syntax of list comprehension\n",
        "new_iterable = [expression for item in iterable if condition]"
      ],
      "metadata": {
        "id": "umFmUaPnKRvO"
      },
      "execution_count": null,
      "outputs": []
    },
    {
      "cell_type": "code",
      "source": [
        "# through list comprehension\n",
        "squares = [i**2 for i in range(1,11)]\n",
        "print(squares)"
      ],
      "metadata": {
        "colab": {
          "base_uri": "https://localhost:8080/"
        },
        "id": "nqgSdvgrNNOz",
        "outputId": "fab2076d-a597-4997-acad-989581427c6c"
      },
      "execution_count": null,
      "outputs": [
        {
          "output_type": "stream",
          "name": "stdout",
          "text": [
            "[1, 4, 9, 16, 25, 36, 49, 64, 81, 100]\n"
          ]
        }
      ]
    },
    {
      "cell_type": "code",
      "source": [
        "# through loop\n",
        "squares = []\n",
        "for i in range(1,11):\n",
        "  squares.append(i**2)\n",
        "print(squares)"
      ],
      "metadata": {
        "colab": {
          "base_uri": "https://localhost:8080/"
        },
        "id": "fYl99ShXNjWj",
        "outputId": "38a41295-954b-42e6-ad5a-fc0c55a654b0"
      },
      "execution_count": null,
      "outputs": [
        {
          "output_type": "stream",
          "name": "stdout",
          "text": [
            "[1, 4, 9, 16, 25, 36, 49, 64, 81, 100]\n"
          ]
        }
      ]
    },
    {
      "cell_type": "code",
      "source": [
        "squares = [i**2 for i in range(1,11) if i%2==0]\n",
        "print(squares)"
      ],
      "metadata": {
        "colab": {
          "base_uri": "https://localhost:8080/"
        },
        "id": "wPLIeudjNnvo",
        "outputId": "45202f14-bee9-4452-f4da-9ebfc243cae6"
      },
      "execution_count": null,
      "outputs": [
        {
          "output_type": "stream",
          "name": "stdout",
          "text": [
            "[4, 16, 36, 64, 100]\n"
          ]
        }
      ]
    },
    {
      "cell_type": "code",
      "source": [
        "squares = []\n",
        "for i in range(1,11):\n",
        "  if i%2==0:\n",
        "    squares.append(i**2)\n",
        "print(squares)"
      ],
      "metadata": {
        "colab": {
          "base_uri": "https://localhost:8080/"
        },
        "id": "J_O1-4X_THJZ",
        "outputId": "4d624b8d-052f-4825-cb23-e0a9ca36e15d"
      },
      "execution_count": null,
      "outputs": [
        {
          "output_type": "stream",
          "name": "stdout",
          "text": [
            "[4, 16, 36, 64, 100]\n"
          ]
        }
      ]
    },
    {
      "cell_type": "code",
      "source": [
        "# Nested list comprehension\n",
        "pair = [(x,j) for x in range(1,6) if x % 2 ==0 for j in range(1,6) if j%2 ==1]\n",
        "print(pair)"
      ],
      "metadata": {
        "colab": {
          "base_uri": "https://localhost:8080/"
        },
        "id": "rFL16OniTedU",
        "outputId": "a31adb73-707a-49bc-8782-15bb014800de"
      },
      "execution_count": null,
      "outputs": [
        {
          "output_type": "stream",
          "name": "stdout",
          "text": [
            "[(2, 1), (2, 3), (2, 5), (4, 1), (4, 3), (4, 5)]\n"
          ]
        }
      ]
    },
    {
      "cell_type": "code",
      "source": [
        "num_grades = [78,92,85,65,89,76,81]\n",
        "let_grades = []\n",
        "for grade in num_grades:\n",
        "  if grade in range(90,101):\n",
        "    let_grades.append('A')\n",
        "  elif grade in range(80,90):\n",
        "    let_grades.append('B')\n",
        "  elif grade in range(70,80):\n",
        "    let_grades.append('C')\n",
        "  elif grade in range(60,70):\n",
        "    let_grades.append('D')\n",
        "  else:\n",
        "    let_grades.append('F')\n",
        "print(let_grades)"
      ],
      "metadata": {
        "colab": {
          "base_uri": "https://localhost:8080/"
        },
        "id": "E9pvNZ3oUn3m",
        "outputId": "442fe5c6-970b-4bde-986c-6191325ee213"
      },
      "execution_count": null,
      "outputs": [
        {
          "output_type": "stream",
          "name": "stdout",
          "text": [
            "['C', 'A', 'B', 'D', 'B', 'C', 'B']\n"
          ]
        }
      ]
    },
    {
      "cell_type": "code",
      "source": [
        "lett_grades = ['A' if grade>=90 else 'B' if grade>=80 else 'C' if grade>=70 else 'F' for grade in num_grades]\n",
        "print(lett_grades)"
      ],
      "metadata": {
        "colab": {
          "base_uri": "https://localhost:8080/"
        },
        "id": "A5HeRnr3V5OL",
        "outputId": "50cee39c-7aae-415d-cd3b-14d5f947768d"
      },
      "execution_count": null,
      "outputs": [
        {
          "output_type": "stream",
          "name": "stdout",
          "text": [
            "['C', 'A', 'B', 'F', 'B', 'C', 'B']\n"
          ]
        }
      ]
    },
    {
      "cell_type": "code",
      "source": [
        "prices = [100,50,80,120,150,340,200,45,20,10]\n",
        "dis_price = [i*.80 for i in prices]\n",
        "print(dis_price)"
      ],
      "metadata": {
        "colab": {
          "base_uri": "https://localhost:8080/"
        },
        "id": "6arotLBfWjYJ",
        "outputId": "51adea76-20f8-407e-f9f9-3719ebbd4587"
      },
      "execution_count": null,
      "outputs": [
        {
          "output_type": "stream",
          "name": "stdout",
          "text": [
            "[80.0, 40.0, 64.0, 96.0, 120.0, 272.0, 160.0, 36.0, 16.0, 8.0]\n"
          ]
        }
      ]
    },
    {
      "cell_type": "markdown",
      "source": [
        "---\n",
        "Set Comprehension\n",
        "- Similar to the list list comprehension but we are just creating a set\n",
        "---"
      ],
      "metadata": {
        "id": "qohwu6wz4KbQ"
      }
    },
    {
      "cell_type": "code",
      "source": [
        "vow = {char for char in \"Heello People\" if char in 'aeiou'}\n",
        "print(vow)"
      ],
      "metadata": {
        "id": "KPnORnsu2jAD",
        "colab": {
          "base_uri": "https://localhost:8080/"
        },
        "outputId": "88276e4e-012a-420d-b090-5d73031463c0"
      },
      "execution_count": 5,
      "outputs": [
        {
          "output_type": "stream",
          "name": "stdout",
          "text": [
            "{'e', 'o'}\n"
          ]
        }
      ]
    },
    {
      "cell_type": "code",
      "source": [
        "books = [('fiction', 20), ('history', 15), ('biography', 5), ('mystery', 10), ('science', 8), ('fiction', 15), ('history', 10)]\n",
        "\n",
        "cat = {category for category, stock in books if stock>=10}\n",
        "print(cat)"
      ],
      "metadata": {
        "colab": {
          "base_uri": "https://localhost:8080/"
        },
        "id": "hZB_CAwZL1Wb",
        "outputId": "d5dbaf8e-acbd-413d-daa6-4dfd956fdf9b"
      },
      "execution_count": 8,
      "outputs": [
        {
          "output_type": "stream",
          "name": "stdout",
          "text": [
            "{'fiction', 'mystery', 'history'}\n"
          ]
        }
      ]
    },
    {
      "cell_type": "markdown",
      "source": [
        "Enumerate Function:\n",
        "- The \"enumerate()\" function is a powerful tool that simplifies looping over iterable objects, such as lists or strings. It returns a tuple containing the index and the corresponding value for each element in the sequence. This allows you to access both the index and the element during iteration, making code more concise and readable."
      ],
      "metadata": {
        "id": "gWxqF9f3OeyU"
      }
    },
    {
      "cell_type": "markdown",
      "source": [
        "Zip Function:\n",
        "- The \"zip()\" function is used to combine multiple iterables into a single iterable of tuples. It pairs elements from different sequences based on their index. This is particularly useful when you want to loop through multiple lists or strings simultaneously."
      ],
      "metadata": {
        "id": "MkdeIm98OlfX"
      }
    },
    {
      "cell_type": "markdown",
      "source": [
        "Generator Expressions:\n",
        "- Generator expressions are similar to list comprehensions, but they generate values on-the-fly rather than creating a new list. This makes them memory-efficient when dealing with large datasets. They are denoted by parentheses instead of square brackets."
      ],
      "metadata": {
        "id": "4YyiQU2SOtxN"
      }
    },
    {
      "cell_type": "markdown",
      "source": [
        "---\n",
        "OOPs\n",
        "---"
      ],
      "metadata": {
        "id": "NxGGWxcBqF0f"
      }
    },
    {
      "cell_type": "markdown",
      "source": [
        "**The main concept of OOPs is to bind the data and the functions that work on that together as a single unit.**"
      ],
      "metadata": {
        "id": "3sNZpHkGsYOq"
      }
    },
    {
      "cell_type": "markdown",
      "source": [
        "- In Python, a class is a blueprint for creating objects. It defines a set of attributes and methods that objects of that class will have"
      ],
      "metadata": {
        "id": "ebN7lOXUynvg"
      }
    },
    {
      "cell_type": "code",
      "source": [
        "class MyClass:\n",
        "    # Class Variables\n",
        "    variable1 = \"Hello\"\n",
        "    variable2 = \"World\"\n",
        "\n",
        "    # Class Method\n",
        "    def myMethod(self):\n",
        "        print(\"MyClass method called.\")\n",
        "\n",
        "# Creating Object of MyClass\n",
        "myObject = MyClass()\n",
        "\n",
        "# Accessing Variables\n",
        "print(myObject.variable1)\n",
        "print(myObject.variable2)\n",
        "\n",
        "# Accessing Methods\n",
        "myObject.myMethod()\n",
        "\n",
        "# This class has two class variables (variable1 and variable2) and a class method (myMethod).\n",
        "# We then create an object of this class called myObject and use it to access the class variables and method."
      ],
      "metadata": {
        "id": "zfTC3Vmjy7Gl"
      },
      "execution_count": null,
      "outputs": []
    },
    {
      "cell_type": "markdown",
      "source": [
        "- Attributes:\n",
        "\n",
        "Attributes are variables that hold information about an object"
      ],
      "metadata": {
        "id": "xpC8V4c62eO0"
      }
    },
    {
      "cell_type": "code",
      "source": [
        "class Person:\n",
        "    def __init__(self, name, age):\n",
        "        self.name = name\n",
        "        self.age = age\n",
        "\n",
        "person = Person(\"John\", 30)\n",
        "print(person.name)\n",
        "print(person.age)"
      ],
      "metadata": {
        "colab": {
          "base_uri": "https://localhost:8080/"
        },
        "id": "EyQUHDzxzFBV",
        "outputId": "236933fd-e85b-44ca-90df-c77809c3ceeb"
      },
      "execution_count": 1,
      "outputs": [
        {
          "output_type": "stream",
          "name": "stdout",
          "text": [
            "John\n",
            "30\n"
          ]
        }
      ]
    },
    {
      "cell_type": "markdown",
      "source": [
        "- Objects:\n",
        "\n",
        "An object is an instance of a class. We create objects by calling the class as if it were a function, passing in any necessary arguments. Here's an example:\n",
        "\n",
        "person = Person()"
      ],
      "metadata": {
        "id": "wjLqOjWs2rg4"
      }
    },
    {
      "cell_type": "markdown",
      "source": [
        "Methods:\n",
        "\n",
        "Methods are functions that are defined inside a class and can be called on objects of that class. They are used to perform operations on the attributes of the object or to return information about the object."
      ],
      "metadata": {
        "id": "saqCVjcY3Vua"
      }
    },
    {
      "cell_type": "code",
      "source": [
        "class Person:\n",
        "    def __init__(self, name, age):\n",
        "        self.name = name\n",
        "        self.age = age\n",
        "\n",
        "    def greet(self):\n",
        "        print(\"Hello, my name is\", self.name)\n",
        "person = Person(\"John\", 30)\n",
        "person.greet()"
      ],
      "metadata": {
        "colab": {
          "base_uri": "https://localhost:8080/"
        },
        "id": "Zi_Jyd6X2liG",
        "outputId": "8691a2d2-adf7-4325-9ab3-853bd4b3da8d"
      },
      "execution_count": 2,
      "outputs": [
        {
          "output_type": "stream",
          "name": "stdout",
          "text": [
            "Hello, my name is John\n"
          ]
        }
      ]
    },
    {
      "cell_type": "markdown",
      "source": [
        "##### Making A Calculator"
      ],
      "metadata": {
        "id": "gr21Y3j93dTM"
      }
    },
    {
      "cell_type": "code",
      "source": [
        "class Calculator:\n",
        "    # Define the constructor method to initialize the class and set the initial result to 0\n",
        "    def __init__(self):\n",
        "        self.result = 0\n",
        "\n",
        "    # Define a method to add num1 to num2 and store the result\n",
        "    def add(self, num1, num2):\n",
        "        self.result = num1 + num2\n",
        "        return self.result\n",
        "\n",
        "    # Define a method to subtract num2 from num1 and store the result\n",
        "    def subtract(self, num1, num2):\n",
        "        self.result = num1 - num2\n",
        "        return self.result\n",
        "\n",
        "    # Define a method to multiply num1 by num2 and store the result\n",
        "    def multiply(self, num1, num2):\n",
        "        self.result = num1 * num2\n",
        "        return self.result\n",
        "\n",
        "    # Define a method to divide num1 by num2 and store the result. Raise a ValueError if dividing by 0.\n",
        "    def divide(self, num1, num2):\n",
        "        if num2 == 0:\n",
        "            raise ValueError(\"Cannot divide by zero.\")\n",
        "        self.result = num1 / num2\n",
        "        return self.result\n",
        "\n",
        "    # Define a method to clear the result back to 0\n",
        "    def clear(self):\n",
        "        self.result = 0\n",
        "        return self.result"
      ],
      "metadata": {
        "id": "GRekdCYu3aC0"
      },
      "execution_count": 6,
      "outputs": []
    },
    {
      "cell_type": "code",
      "source": [
        "calc=Calculator()\n",
        "#calling add method\n",
        "addition=calc.add(42,6)\n",
        "\n",
        "#calling subtract method\n",
        "subtraction=calc.subtract(42,6)\n",
        "\n",
        "#calling divide method\n",
        "division=calc.divide(42,6)\n",
        "\n",
        "#calling multiply method\n",
        "mulitplication=calc.multiply(42,6)\n",
        "\n",
        "print(\"Addition- \",addition)\n",
        "print(\"subtraction- \",subtraction)\n",
        "print(\"division- \",division)\n",
        "print(\"mulitplication- \",mulitplication)"
      ],
      "metadata": {
        "colab": {
          "base_uri": "https://localhost:8080/"
        },
        "id": "FfY2daTA5O8a",
        "outputId": "942470b7-1a54-4c6a-de8c-aba98a77b8f9"
      },
      "execution_count": 8,
      "outputs": [
        {
          "output_type": "stream",
          "name": "stdout",
          "text": [
            "Addition-  48\n",
            "subtraction-  36\n",
            "division-  7.0\n",
            "mulitplication-  252\n"
          ]
        }
      ]
    },
    {
      "cell_type": "markdown",
      "source": [
        "##### Making a Virtual Pet"
      ],
      "metadata": {
        "id": "WP7IzXbM6b0e"
      }
    },
    {
      "cell_type": "code",
      "source": [
        "class Pet:\n",
        "  def __init__(self, name, age, health_level):\n",
        "    self.name = name\n",
        "    self.age = age\n",
        "    self.health_level = health_level\n",
        "\n",
        "  def feed(self):\n",
        "    self.health_level += 20\n",
        "    print(f\"{self.name} has been fed and is now {self.health_level}% healthy.\")\n",
        "\n",
        "  def play(self):\n",
        "    self.health_level -= 10\n",
        "    if self.health_level <= 5:\n",
        "      print(f\"{self.name} is not healthy enough to play with.\")\n",
        "    else:\n",
        "      print(f\"{self.name} is playing and is now {self.health_level}% healthy.\")\n",
        "\n",
        "  def check_health(self):\n",
        "    if self.health_level <= 0:\n",
        "      print(f\"{self.name} is dead.\")\n",
        "    elif self.health_level <= 20:\n",
        "      print(f\"{self.name} is getting hungry.\")\n",
        "    else:\n",
        "      print(f\"{self.name} is healthy.\")"
      ],
      "metadata": {
        "id": "QshZN1xa5o9y"
      },
      "execution_count": 9,
      "outputs": []
    },
    {
      "cell_type": "code",
      "source": [
        "my_pet = Pet(\"Mumu\",2, 50)\n",
        "my_pet.feed()\n",
        "my_pet.play()\n",
        "my_pet.check_health()\n",
        "\n",
        "print(\"Name:\", my_pet.name)\n",
        "print(\"Age:\", my_pet.age)\n",
        "print(\"Health Level:\", my_pet.health_level)"
      ],
      "metadata": {
        "colab": {
          "base_uri": "https://localhost:8080/"
        },
        "id": "7PjbhTHX7mjh",
        "outputId": "c4763938-5cd4-4658-b14d-84b677bfa408"
      },
      "execution_count": 10,
      "outputs": [
        {
          "output_type": "stream",
          "name": "stdout",
          "text": [
            "Mumu has been fed and is now 70% healthy.\n",
            "Mumu is playing and is now 60% healthy.\n",
            "Mumu is healthy.\n",
            "Name Mumu\n",
            "Age 2\n",
            "Health Level 60\n"
          ]
        }
      ]
    },
    {
      "cell_type": "markdown",
      "source": [
        "- Polymorphism is a core concept in object-oriented programming, which allows objects of different classes to be treated as if they are objects of the same class."
      ],
      "metadata": {
        "id": "gZLIayTi8sGu"
      }
    },
    {
      "cell_type": "markdown",
      "source": [
        "##### Making a Shape Calculator using Polymorphism"
      ],
      "metadata": {
        "id": "2jNYMrxA8xFq"
      }
    },
    {
      "cell_type": "code",
      "source": [
        "class shape:\n",
        "  def area(self):\n",
        "    pass\n",
        "\n",
        "  def perimeter(self):\n",
        "    pass"
      ],
      "metadata": {
        "id": "UYG6MmU376-s"
      },
      "execution_count": 11,
      "outputs": []
    },
    {
      "cell_type": "code",
      "source": [
        "class Square(shape):\n",
        "  def __init__(self, side):\n",
        "    self.side = side\n",
        "\n",
        "  def area(self):\n",
        "    return self.side**2\n",
        "\n",
        "class Rectangle(shape):\n",
        "  def __init__(self, width, height):\n",
        "    self.width = width\n",
        "    self.height = height\n",
        "\n",
        "  def area(self):\n",
        "    return self.width*self.height"
      ],
      "metadata": {
        "id": "UFabfU93_b-q"
      },
      "execution_count": 12,
      "outputs": []
    },
    {
      "cell_type": "code",
      "source": [
        "square = Square(5)\n",
        "rectangle = Rectangle(3, 4)\n",
        "\n",
        "# Calculating Area and Perimeter of Shapes\n",
        "print(\"Area of Square:\", square.area())\n",
        "\n",
        "print(\"Area of Rectangle:\", rectangle.area())"
      ],
      "metadata": {
        "colab": {
          "base_uri": "https://localhost:8080/"
        },
        "id": "lfNiCp1AAJpF",
        "outputId": "a7d5996b-4148-4107-96e6-b6fa76795109"
      },
      "execution_count": 13,
      "outputs": [
        {
          "output_type": "stream",
          "name": "stdout",
          "text": [
            "Area of Square: 25\n",
            "Area of Rectangle: 12\n"
          ]
        }
      ]
    },
    {
      "cell_type": "markdown",
      "source": [
        "Inheritance:\n",
        "1. which allows a new class to be based on an existing class\n",
        "2. The child class will have all the properties from the parent class or the class it was being inherited."
      ],
      "metadata": {
        "id": "KQ19exnJA9WL"
      }
    },
    {
      "cell_type": "code",
      "source": [
        "class Vehicle: # Parent Class\n",
        "    def __init__(self, make, model, year):\n",
        "        self.make = make\n",
        "        self.model = model\n",
        "        self.year = year\n",
        "\n",
        "    def start_engine(self):\n",
        "        print(\"Starting engine...\")\n",
        "\n",
        "\n",
        "#We can then define a subclass called Car that inherits from the Vehicle class and adds its own unique properties and methods.\n",
        "\n",
        "\n",
        "class Car(Vehicle): ## Child class adding more properties\n",
        "    def __init__(self, make, model, year, num_doors):\n",
        "        super().__init__(make, model, year)\n",
        "        self.num_doors = num_doors\n",
        "\n",
        "    def drive(self):\n",
        "        print(\"Driving the car...\")\n"
      ],
      "metadata": {
        "id": "-qZRJsdrAK_i"
      },
      "execution_count": 14,
      "outputs": []
    },
    {
      "cell_type": "code",
      "source": [
        "vehicle = Vehicle(\"Toyota\", \"Corolla\", 2022)\n",
        "car = Car(\"Tesla\", \"Model S\", 2021, 4)\n",
        "\n",
        "vehicle.start_engine()  # prints \"Starting engine...\"\n",
        "car.start_engine()      # prints \"Starting engine...\"\n",
        "\n",
        "#vehicle.drive()       # This will produce an error, as the drive() method is not defined for the Vehicle class\n",
        "car.drive()"
      ],
      "metadata": {
        "colab": {
          "base_uri": "https://localhost:8080/"
        },
        "id": "vagtiNZwBiO-",
        "outputId": "4786bced-af0e-41d4-adba-3c7da6bbc021"
      },
      "execution_count": 15,
      "outputs": [
        {
          "output_type": "stream",
          "name": "stdout",
          "text": [
            "Starting engine...\n",
            "Starting engine...\n",
            "Driving the car...\n"
          ]
        }
      ]
    }
  ]
}