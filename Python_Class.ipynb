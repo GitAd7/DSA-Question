{
  "nbformat": 4,
  "nbformat_minor": 0,
  "metadata": {
    "colab": {
      "provenance": [],
      "authorship_tag": "ABX9TyOpmaxFAJ0jMKAEVuqiXFyw",
      "include_colab_link": true
    },
    "kernelspec": {
      "name": "python3",
      "display_name": "Python 3"
    },
    "language_info": {
      "name": "python"
    }
  },
  "cells": [
    {
      "cell_type": "markdown",
      "metadata": {
        "id": "view-in-github",
        "colab_type": "text"
      },
      "source": [
        "<a href=\"https://colab.research.google.com/github/GitAd7/DSA-Question/blob/main/Python_Class.ipynb\" target=\"_parent\"><img src=\"https://colab.research.google.com/assets/colab-badge.svg\" alt=\"Open In Colab\"/></a>"
      ]
    },
    {
      "cell_type": "markdown",
      "source": [
        "# Custom Function"
      ],
      "metadata": {
        "id": "lEdhtINQuzS9"
      }
    },
    {
      "cell_type": "markdown",
      "source": [
        "---\n",
        " - Making a custom function to calculate the calories burned.\n",
        " - Have to make it using while loop, inputs are activty duration, activity type.\n",
        " - Running burns 10 cal per min, swimming burns 8 cal per min, cycling burns 6 cal per min.\n",
        "---"
      ],
      "metadata": {
        "id": "nKeYl50mj42p"
      }
    },
    {
      "cell_type": "code",
      "execution_count": 1,
      "metadata": {
        "id": "gbQYSTQvjyEV"
      },
      "outputs": [],
      "source": [
        "def calories_burned(duration_min, activity_type):\n",
        "  '''\n",
        "  inputs = duration_min (time of activity is minutes), activity_type (Type of activity indulging in)\n",
        "  outputs = calories burned (Total calories burned by doing the specified activity)\n",
        "  '''\n",
        "  if activity_type == 'running':\n",
        "    calories = duration_min * 10\n",
        "  elif activity_type == 'swimming':\n",
        "    calories = duration_min * 8\n",
        "  elif activity_type == 'cycling':\n",
        "    calories = duration_min * 6\n",
        "  else:\n",
        "    calories = 0\n",
        "  return calories"
      ]
    },
    {
      "cell_type": "code",
      "source": [
        "glb_cal = calories_burned(20, 'cycling')\n",
        "print(glb_cal)"
      ],
      "metadata": {
        "colab": {
          "base_uri": "https://localhost:8080/"
        },
        "id": "BZ2WEOv0mOYV",
        "outputId": "53bf9729-60c1-481b-cded-097b68b9b872"
      },
      "execution_count": 3,
      "outputs": [
        {
          "output_type": "stream",
          "name": "stdout",
          "text": [
            "120\n"
          ]
        }
      ]
    },
    {
      "cell_type": "code",
      "source": [
        "total_cal = calories_burned(23, 'swimming') + calories_burned(10, 'cycling') + calories_burned(30, 'running')\n",
        "print(total_cal)"
      ],
      "metadata": {
        "colab": {
          "base_uri": "https://localhost:8080/"
        },
        "id": "xxFTJyyYmXx7",
        "outputId": "4caeaecd-0179-4f41-9ab7-8ad2d8d3949d"
      },
      "execution_count": 5,
      "outputs": [
        {
          "output_type": "stream",
          "name": "stdout",
          "text": [
            "544\n"
          ]
        }
      ]
    },
    {
      "cell_type": "markdown",
      "source": [
        "---\n",
        "- Create a function to keep the count of book to order for each category.\n",
        "- Inventory atleast has 10 books for each title at minimun.\n",
        "- Input: a dictionary of books names as key with current count as values.\n",
        "- Output: A dictionary of the book names as key and the value as number of books to be ordered.\n",
        "---"
      ],
      "metadata": {
        "id": "6Fu78D9inw8P"
      }
    },
    {
      "cell_type": "code",
      "source": [
        "books = {\n",
        "    \"Harry Potter\": 10,\n",
        "    \"The Hunger Games\": 5,\n",
        "    \"To Kill a Mockingbird\": 2,\n",
        "    \"Pride and Prejudice\": 8,\n",
        "    \"The Book Thief\": 4\n",
        "}\n",
        "\n",
        "\n",
        "books_cnt = {\n",
        "    \"Harry Potter\": 10,\n",
        "    \"The Hunger Games\": 5,\n",
        "    \"To Kill a Mockingbird\": 2,\n",
        "    \"Pride and Prejudice\": 8,\n",
        "    \"The Book Thief\": 4\n",
        "}"
      ],
      "metadata": {
        "id": "bFNdpFmCouOC"
      },
      "execution_count": 25,
      "outputs": []
    },
    {
      "cell_type": "code",
      "source": [
        "# Approach-01\n",
        "def inventory_update(books):\n",
        "  for book in books:\n",
        "    books[book] = books[book] - 10\n",
        "  return books\n",
        "\n",
        "# Approach-02\n",
        "def books_tb_ordered(books):\n",
        "  order = {}\n",
        "  for name, qty in books.items():\n",
        "    if qty >= 10:\n",
        "      order[name] = 0\n",
        "    else:\n",
        "      order[name] = 10 - qty\n",
        "  return order"
      ],
      "metadata": {
        "id": "mDMo7xVDmxwx"
      },
      "execution_count": 22,
      "outputs": []
    },
    {
      "cell_type": "code",
      "source": [
        "cal = inventory_update(books)\n",
        "print(cal)"
      ],
      "metadata": {
        "colab": {
          "base_uri": "https://localhost:8080/"
        },
        "id": "25C5szBepceh",
        "outputId": "691c7b63-3a72-49ed-bcfa-3515dd69751c"
      },
      "execution_count": 23,
      "outputs": [
        {
          "output_type": "stream",
          "name": "stdout",
          "text": [
            "{'Harry Potter': 0, 'The Hunger Games': -5, 'To Kill a Mockingbird': -8, 'Pride and Prejudice': -2, 'The Book Thief': -6}\n"
          ]
        }
      ]
    },
    {
      "cell_type": "code",
      "source": [
        "bks = books_tb_ordered(books_cnt)\n",
        "print(bks)"
      ],
      "metadata": {
        "colab": {
          "base_uri": "https://localhost:8080/"
        },
        "id": "rH-KTe8uq1P7",
        "outputId": "3b3b6e1f-3371-4f63-8491-1038d69ade8d"
      },
      "execution_count": 26,
      "outputs": [
        {
          "output_type": "stream",
          "name": "stdout",
          "text": [
            "{'Harry Potter': 0, 'The Hunger Games': 5, 'To Kill a Mockingbird': 8, 'Pride and Prejudice': 2, 'The Book Thief': 6}\n"
          ]
        }
      ]
    },
    {
      "cell_type": "markdown",
      "source": [
        "# Advanced Looping Concepts"
      ],
      "metadata": {
        "id": "sXrmjRxSu4ur"
      }
    },
    {
      "cell_type": "code",
      "source": [],
      "metadata": {
        "id": "kohqDE29u8-T"
      },
      "execution_count": null,
      "outputs": []
    }
  ]
}